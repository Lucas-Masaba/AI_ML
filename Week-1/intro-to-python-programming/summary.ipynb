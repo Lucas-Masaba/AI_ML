{
 "cells": [
  {
   "cell_type": "markdown",
   "metadata": {},
   "source": [
    "## **Reading csv files with python**"
   ]
  },
  {
   "cell_type": "code",
   "execution_count": 39,
   "metadata": {},
   "outputs": [
    {
     "data": {
      "text/plain": [
       "[{'': '1',\n",
       "  'manufacturer': 'audi',\n",
       "  'model': 'a4',\n",
       "  'displ': '1.8',\n",
       "  'year': '1999',\n",
       "  'cyl': '4',\n",
       "  'trans': 'auto(l5)',\n",
       "  'drv': 'f',\n",
       "  'cty': '18',\n",
       "  'hwy': '29',\n",
       "  'fl': 'p',\n",
       "  'class': 'compact'},\n",
       " {'': '2',\n",
       "  'manufacturer': 'audi',\n",
       "  'model': 'a4',\n",
       "  'displ': '1.8',\n",
       "  'year': '1999',\n",
       "  'cyl': '4',\n",
       "  'trans': 'manual(m5)',\n",
       "  'drv': 'f',\n",
       "  'cty': '21',\n",
       "  'hwy': '29',\n",
       "  'fl': 'p',\n",
       "  'class': 'compact'},\n",
       " {'': '3',\n",
       "  'manufacturer': 'audi',\n",
       "  'model': 'a4',\n",
       "  'displ': '2',\n",
       "  'year': '2008',\n",
       "  'cyl': '4',\n",
       "  'trans': 'manual(m6)',\n",
       "  'drv': 'f',\n",
       "  'cty': '20',\n",
       "  'hwy': '31',\n",
       "  'fl': 'p',\n",
       "  'class': 'compact'}]"
      ]
     },
     "execution_count": 39,
     "metadata": {},
     "output_type": "execute_result"
    }
   ],
   "source": [
    "import csv\n",
    "\n",
    "with open('../datasets/mpg.csv') as csvfile:\n",
    "  mpg = list(csv.DictReader(csvfile))\n",
    "\n",
    "mpg[:3] # The first three dictionaries in our list."
   ]
  },
  {
   "cell_type": "markdown",
   "metadata": {},
   "source": [
    "**Summing data in a csv file**"
   ]
  },
  {
   "cell_type": "code",
   "execution_count": 40,
   "metadata": {},
   "outputs": [
    {
     "data": {
      "text/plain": [
       "3945.0"
      ]
     },
     "execution_count": 40,
     "metadata": {},
     "output_type": "execute_result"
    }
   ],
   "source": [
    "sum(float(d['cty']) for d in mpg)"
   ]
  },
  {
   "cell_type": "markdown",
   "metadata": {},
   "source": [
    "## **Numpy**\n",
    "\n",
    "The Numpy module is mainly used for working with numerical \n",
    "data. It provides us with a powerful object known as an Array.\n",
    "With Arrays, we can perform mathematical operations on \n",
    "multiple values in the Arrays at the same time, and also\n",
    "perform operations between different Arrays, similar to \n",
    "matrix operations. "
   ]
  },
  {
   "cell_type": "code",
   "execution_count": 41,
   "metadata": {},
   "outputs": [],
   "source": [
    "import numpy as np\n",
    "import math "
   ]
  },
  {
   "cell_type": "markdown",
   "metadata": {},
   "source": [
    "**Array creation**"
   ]
  },
  {
   "cell_type": "code",
   "execution_count": 42,
   "metadata": {},
   "outputs": [
    {
     "name": "stdout",
     "output_type": "stream",
     "text": [
      "1\n"
     ]
    }
   ],
   "source": [
    "a = np.array([1,2,3,4])\n",
    "print(a.ndim)"
   ]
  },
  {
   "cell_type": "markdown",
   "metadata": {},
   "source": [
    "Two dimensional array"
   ]
  },
  {
   "cell_type": "code",
   "execution_count": 43,
   "metadata": {},
   "outputs": [
    {
     "name": "stdout",
     "output_type": "stream",
     "text": [
      "2\n"
     ]
    }
   ],
   "source": [
    "b = np.array([[1,2,3,4],[5,6,7,8]])\n",
    "print(b.ndim)"
   ]
  },
  {
   "cell_type": "code",
   "execution_count": 44,
   "metadata": {},
   "outputs": [
    {
     "name": "stdout",
     "output_type": "stream",
     "text": [
      "(2, 4)\n"
     ]
    }
   ],
   "source": [
    "print(b.shape)\n",
    "# 2 by 4"
   ]
  },
  {
   "cell_type": "markdown",
   "metadata": {},
   "source": [
    "Adding default values to an array"
   ]
  },
  {
   "cell_type": "code",
   "execution_count": 45,
   "metadata": {},
   "outputs": [
    {
     "name": "stdout",
     "output_type": "stream",
     "text": [
      "[[0. 0. 0. 0.]\n",
      " [0. 0. 0. 0.]]\n",
      "[[1. 1.]\n",
      " [1. 1.]\n",
      " [1. 1.]]\n"
     ]
    }
   ],
   "source": [
    "c = np.zeros((2,4))\n",
    "print(c)\n",
    "d = np.ones((3,2))\n",
    "print(d)"
   ]
  },
  {
   "cell_type": "markdown",
   "metadata": {},
   "source": [
    "**Array operations**"
   ]
  },
  {
   "cell_type": "code",
   "execution_count": 46,
   "metadata": {},
   "outputs": [
    {
     "name": "stdout",
     "output_type": "stream",
     "text": [
      "[0 2 4 6 8]\n",
      "[ 0.   2.5  5.   7.5 10. ]\n",
      "[ 0.   4.5  9.  13.5 18. ]\n",
      "[ 0.  5. 20. 45. 80.]\n",
      "[ 0  4 16 36 64]\n",
      "[ 0.  -0.5 -1.  -1.5 -2. ]\n",
      "[nan 0.8 0.8 0.8 0.8]\n"
     ]
    },
    {
     "name": "stderr",
     "output_type": "stream",
     "text": [
      "/tmp/ipykernel_177041/3640568740.py:10: RuntimeWarning: invalid value encountered in divide\n",
      "  print(e/f)\n"
     ]
    }
   ],
   "source": [
    "e = np.arange(0, 10, 2)\n",
    "f = np.linspace(0, 10, 5)\n",
    "\n",
    "print(e)\n",
    "print(f)\n",
    "print(e+f)\n",
    "print(e*f)\n",
    "print(e**2)\n",
    "print(e-f)\n",
    "print(e/f)\n"
   ]
  },
  {
   "cell_type": "code",
   "execution_count": 47,
   "metadata": {},
   "outputs": [
    {
     "name": "stdout",
     "output_type": "stream",
     "text": [
      "[[1 2]\n",
      " [3 4]]\n"
     ]
    }
   ],
   "source": [
    "# Use reshape to change the shape of an array\n",
    "\n",
    "g = np.array([1,2,3,4])\n",
    "print(g.reshape(2,2))"
   ]
  },
  {
   "cell_type": "code",
   "execution_count": 48,
   "metadata": {},
   "outputs": [
    {
     "name": "stdout",
     "output_type": "stream",
     "text": [
      "[2 4 6 8]\n"
     ]
    }
   ],
   "source": [
    "g=g*2\n",
    "print(g)"
   ]
  },
  {
   "cell_type": "markdown",
   "metadata": {},
   "source": [
    "## **REGEX**"
   ]
  },
  {
   "cell_type": "code",
   "execution_count": 49,
   "metadata": {},
   "outputs": [
    {
     "name": "stdout",
     "output_type": "stream",
     "text": [
      "<re.Match object; span=(0, 3), match='Amy'>\n",
      "['', ' works diligently. ', ' gets good grades. Our student ', ' is succesful.']\n",
      "['Amy', 'Amy', 'Amy']\n"
     ]
    }
   ],
   "source": [
    "import re\n",
    "\n",
    "str = \"Amy works diligently. Amy gets good grades. Our student Amy is succesful.\"\n",
    "\n",
    "print(re.search(\"Amy\", str))\n",
    "\n",
    "print(re.split(\"Amy\", str))\n",
    "\n",
    "print(re.findall(\"Amy\", str))\n"
   ]
  },
  {
   "cell_type": "markdown",
   "metadata": {},
   "source": [
    "### **Patterns and character classes**"
   ]
  },
  {
   "cell_type": "markdown",
   "metadata": {},
   "source": [
    "#### **Set Operators**"
   ]
  },
  {
   "cell_type": "code",
   "execution_count": 50,
   "metadata": {},
   "outputs": [
    {
     "data": {
      "text/plain": [
       "['A', 'A', 'A', 'A', 'A', 'B', 'B', 'B', 'A', 'A']"
      ]
     },
     "execution_count": 50,
     "metadata": {},
     "output_type": "execute_result"
    }
   ],
   "source": [
    "# Set Operator\n",
    "grades=\"ACAAAABCBCBAA\"\n",
    "re.findall(\"[AB]\", grades)"
   ]
  },
  {
   "cell_type": "code",
   "execution_count": 51,
   "metadata": {},
   "outputs": [
    {
     "data": {
      "text/plain": [
       "['AC', 'AB']"
      ]
     },
     "execution_count": 51,
     "metadata": {},
     "output_type": "execute_result"
    }
   ],
   "source": [
    "re.findall(\"[A][B-C]\", grades)"
   ]
  },
  {
   "cell_type": "code",
   "execution_count": 52,
   "metadata": {},
   "outputs": [
    {
     "data": {
      "text/plain": [
       "['AC', 'AB']"
      ]
     },
     "execution_count": 52,
     "metadata": {},
     "output_type": "execute_result"
    }
   ],
   "source": [
    "# You could use the or operator | to get the same result\n",
    "re.findall(\"AB|AC\", grades)"
   ]
  },
  {
   "cell_type": "markdown",
   "metadata": {},
   "source": [
    "**Caret - ^**"
   ]
  },
  {
   "cell_type": "code",
   "execution_count": 53,
   "metadata": {},
   "outputs": [
    {
     "data": {
      "text/plain": [
       "['A']"
      ]
     },
     "execution_count": 53,
     "metadata": {},
     "output_type": "execute_result"
    }
   ],
   "source": [
    "# Check if the 1st character is A\n",
    "re.findall(\"^A\", grades)"
   ]
  },
  {
   "cell_type": "code",
   "execution_count": 54,
   "metadata": {},
   "outputs": [
    {
     "data": {
      "text/plain": [
       "[]"
      ]
     },
     "execution_count": 54,
     "metadata": {},
     "output_type": "execute_result"
    }
   ],
   "source": [
    "# Check if the first character is B\n",
    "re.findall(\"^B\", grades)"
   ]
  },
  {
   "cell_type": "code",
   "execution_count": 55,
   "metadata": {},
   "outputs": [],
   "source": [
    "# Since it is not B, it will return an empty list"
   ]
  },
  {
   "cell_type": "markdown",
   "metadata": {},
   "source": [
    "**Dollar Sign - $**"
   ]
  },
  {
   "cell_type": "code",
   "execution_count": 56,
   "metadata": {},
   "outputs": [
    {
     "data": {
      "text/plain": [
       "['A']"
      ]
     },
     "execution_count": 56,
     "metadata": {},
     "output_type": "execute_result"
    }
   ],
   "source": [
    "# Check if the last character is A\n",
    "re.findall(\"A$\", grades)"
   ]
  },
  {
   "cell_type": "code",
   "execution_count": 57,
   "metadata": {},
   "outputs": [
    {
     "data": {
      "text/plain": [
       "[]"
      ]
     },
     "execution_count": 57,
     "metadata": {},
     "output_type": "execute_result"
    }
   ],
   "source": [
    "# Check if the last character is B\n",
    "re.findall(\"B$\", grades)"
   ]
  },
  {
   "cell_type": "code",
   "execution_count": 58,
   "metadata": {},
   "outputs": [],
   "source": [
    "# Since the last character is not B, it will return an empty list"
   ]
  },
  {
   "cell_type": "code",
   "execution_count": 59,
   "metadata": {},
   "outputs": [
    {
     "data": {
      "text/plain": [
       "['C', 'B', 'C', 'B', 'C', 'B']"
      ]
     },
     "execution_count": 59,
     "metadata": {},
     "output_type": "execute_result"
    }
   ],
   "source": [
    "# Return a list excluding A\n",
    "re.findall(\"[^A]\", grades)"
   ]
  },
  {
   "cell_type": "code",
   "execution_count": 60,
   "metadata": {},
   "outputs": [
    {
     "data": {
      "text/plain": [
       "[]"
      ]
     },
     "execution_count": 60,
     "metadata": {},
     "output_type": "execute_result"
    }
   ],
   "source": [
    "# Return an empty list\n",
    "re.findall(\"^[^A]\", grades)"
   ]
  },
  {
   "cell_type": "markdown",
   "metadata": {},
   "source": [
    "#### **Quantifiers**\n"
   ]
  },
  {
   "cell_type": "code",
   "execution_count": 61,
   "metadata": {},
   "outputs": [
    {
     "data": {
      "text/plain": [
       "['AAAA', 'AA']"
      ]
     },
     "execution_count": 61,
     "metadata": {},
     "output_type": "execute_result"
    }
   ],
   "source": [
    "# Quantifiers are the number of times you want a pattern to be matched in order to match. The most basic\n",
    "# quantifier is expressed as e{m,n}, where e is the expression or character we are matching, m is the minimum\n",
    "# number of times you want it to matched, and n is the maximum number of times the item could be matched.\n",
    "\n",
    "# Let's use these grades as an example. How many times has this student been on a back-to-back A's streak?\n",
    "re.findall(\"A{2,10}\", grades) # 2 is the min and 10 is the max"
   ]
  },
  {
   "cell_type": "code",
   "execution_count": 62,
   "metadata": {},
   "outputs": [
    {
     "data": {
      "text/plain": [
       "['AA', 'AA', 'AA']"
      ]
     },
     "execution_count": 62,
     "metadata": {},
     "output_type": "execute_result"
    }
   ],
   "source": [
    "# So we see that there were two streaks, one where the student had four A's, and one where they had only two\n",
    "# A's\n",
    "\n",
    "# We might try and do this using single values and just repeating the pattern\n",
    "re.findall(\"A{1,1}A{1,1}\", grades)"
   ]
  },
  {
   "cell_type": "code",
   "execution_count": 63,
   "metadata": {},
   "outputs": [
    {
     "data": {
      "text/plain": [
       "[]"
      ]
     },
     "execution_count": 63,
     "metadata": {},
     "output_type": "execute_result"
    }
   ],
   "source": [
    "# As you can see, this is different than the first example. The first pattern is looking for any combination\n",
    "# of two A's up to ten A's in a row. So it sees four A's as a single streak. The second pattern is looking for\n",
    "# two A's back to back, so it sees two A's followed immediately by two more A's. We say that the regex\n",
    "# processor begins at the start of the string and consumes variables which match patterns as it does.\n",
    "\n",
    "# It's important to note that the regex quantifier syntax does not allow you to deviate from the {m,n}\n",
    "# pattern. In particular, if you have an extra space in between the braces you'll get an empty result\n",
    "re.findall(\"A{2, 2}\",grades)"
   ]
  },
  {
   "cell_type": "code",
   "execution_count": 64,
   "metadata": {},
   "outputs": [
    {
     "data": {
      "text/plain": [
       "['AA', 'AA', 'AA']"
      ]
     },
     "execution_count": 64,
     "metadata": {},
     "output_type": "execute_result"
    }
   ],
   "source": [
    "# One number in braces \n",
    "re.findall(\"A{2}\",grades)"
   ]
  },
  {
   "cell_type": "code",
   "execution_count": 65,
   "metadata": {},
   "outputs": [
    {
     "data": {
      "text/plain": [
       "['AAAABC']"
      ]
     },
     "execution_count": 65,
     "metadata": {},
     "output_type": "execute_result"
    }
   ],
   "source": [
    "# Using this, we could find a decreasing trend in a student's grades\n",
    "re.findall(\"A{1,10}B{1,10}C{1,10}\",grades)"
   ]
  },
  {
   "cell_type": "markdown",
   "metadata": {},
   "source": [
    "## **Pandas**"
   ]
  },
  {
   "cell_type": "markdown",
   "metadata": {},
   "source": [
    "Pandas is a Python library used for working with data sets. It has functions for analyzing, cleaning, exploring, and manipulating data. The name \"Pandas\" has a reference to both \"Panel Data\", and \"Python Data Analysis\" and was created by Wes McKinney in 2008."
   ]
  },
  {
   "cell_type": "markdown",
   "metadata": {},
   "source": [
    "#### **The Series Data Structure in Pandas**\n",
    "\n",
    "A pandas Series is a one-dimensional array. It holds any data type supported in Python and uses labels to locate each data value for retrieval. These labels form the index, and they can be strings or integers. A Series is the main data structure in the pandas framework for storing one-dimensional data.\n",
    "\n",
    "The series is one of the core data structures in pandas. You think of it a cross between a list and a dictionary. The items are all stored in an order and there's labels with which you can retrieve them. An easy way to visualize this is two columns of data. The first is the special index, a lot like keys in a dictionary. While the second is your actual data. It's important to note that the data column has a label of its own and can be retrieved using the .name attribute. This is different than with dictionaries and is useful when it comes to merging multiple columns of data. And we'll talk about that later on in the course."
   ]
  },
  {
   "cell_type": "code",
   "execution_count": 66,
   "metadata": {},
   "outputs": [
    {
     "data": {
      "text/plain": [
       "0    Alice\n",
       "1     Jack\n",
       "2    Molly\n",
       "dtype: object"
      ]
     },
     "execution_count": 66,
     "metadata": {},
     "output_type": "execute_result"
    }
   ],
   "source": [
    "import pandas as pd\n",
    "\n",
    "students = ['Alice', 'Jack', 'Molly']\n",
    "pd.Series(students)\n",
    "# stype is object"
   ]
  },
  {
   "cell_type": "code",
   "execution_count": 67,
   "metadata": {},
   "outputs": [
    {
     "data": {
      "text/plain": [
       "0    1\n",
       "1    2\n",
       "2    3\n",
       "dtype: int64"
      ]
     },
     "execution_count": 67,
     "metadata": {},
     "output_type": "execute_result"
    }
   ],
   "source": [
    "numbers = [1, 2, 3]\n",
    "pd.Series(numbers)\n",
    "# dtype is int64"
   ]
  },
  {
   "cell_type": "code",
   "execution_count": 68,
   "metadata": {},
   "outputs": [
    {
     "data": {
      "text/plain": [
       "0    Alice\n",
       "1     Jack\n",
       "2     None\n",
       "dtype: object"
      ]
     },
     "execution_count": 68,
     "metadata": {},
     "output_type": "execute_result"
    }
   ],
   "source": [
    "# Adding None to a list of strings\n",
    "students = ['Alice', 'Jack', None]\n",
    "pd.Series(students)"
   ]
  },
  {
   "cell_type": "code",
   "execution_count": 69,
   "metadata": {},
   "outputs": [
    {
     "data": {
      "text/plain": [
       "0    1.0\n",
       "1    2.0\n",
       "2    NaN\n",
       "dtype: float64"
      ]
     },
     "execution_count": 69,
     "metadata": {},
     "output_type": "execute_result"
    }
   ],
   "source": [
    "# Above returns dtype as object and None.\n",
    "\n",
    "# Adding None to a list of numbers\n",
    "numbers = [1, 2, None]\n",
    "pd.Series(numbers)"
   ]
  },
  {
   "cell_type": "code",
   "execution_count": 70,
   "metadata": {},
   "outputs": [
    {
     "data": {
      "text/plain": [
       "False"
      ]
     },
     "execution_count": 70,
     "metadata": {},
     "output_type": "execute_result"
    }
   ],
   "source": [
    "# Above, I get dtype as float64 and NaN. Nan is not None and when we try to do equality test, it's false.\n",
    "import numpy as np\n",
    "np.nan == None"
   ]
  },
  {
   "cell_type": "code",
   "execution_count": 71,
   "metadata": {},
   "outputs": [
    {
     "data": {
      "text/plain": [
       "True"
      ]
     },
     "execution_count": 71,
     "metadata": {},
     "output_type": "execute_result"
    }
   ],
   "source": [
    "# So we can't use equality test to see if the value is missing or not. Instead, we need to use special function \n",
    "np.isnan(np.nan)"
   ]
  },
  {
   "cell_type": "code",
   "execution_count": 72,
   "metadata": {},
   "outputs": [],
   "source": [
    "# Here, we shall convert a dictionary to a series\n",
    "students_scores = {'Alice': 'Physics', 'Jack': 'Chemistry', 'Molly': 'English'}\n",
    "s = pd.Series(students_scores)"
   ]
  },
  {
   "cell_type": "code",
   "execution_count": 73,
   "metadata": {},
   "outputs": [
    {
     "data": {
      "text/plain": [
       "Index(['Alice', 'Jack', 'Molly'], dtype='object')"
      ]
     },
     "execution_count": 73,
     "metadata": {},
     "output_type": "execute_result"
    }
   ],
   "source": [
    "# The indices in the series are built from the keys of the dictionary that we provided. We can override this\n",
    "s.index\n",
    "# Here, we got the index attribute using .index"
   ]
  },
  {
   "cell_type": "code",
   "execution_count": 75,
   "metadata": {},
   "outputs": [
    {
     "data": {
      "text/plain": [
       "Bob           NaN\n",
       "Jack    Chemistry\n",
       "Paul          NaN\n",
       "dtype: object"
      ]
     },
     "execution_count": 75,
     "metadata": {},
     "output_type": "execute_result"
    }
   ],
   "source": [
    "s = pd.Series(students_scores, index=['Bob', 'Jack', 'Paul'])\n",
    "s\n",
    "# Here, we were trying to return each of the students and their scores. But since Bob and Paul are not in the series, we get NaN."
   ]
  },
  {
   "cell_type": "code",
   "execution_count": 76,
   "metadata": {},
   "outputs": [
    {
     "data": {
      "text/plain": [
       "Alice      Physics\n",
       "Jack     Chemistry\n",
       "Molly      English\n",
       "dtype: object"
      ]
     },
     "execution_count": 76,
     "metadata": {},
     "output_type": "execute_result"
    }
   ],
   "source": [
    "# You can also separate your index creation from the data by passing in the index as a \n",
    "# list explicitly to the series.\n",
    "\n",
    "s = pd.Series(['Physics', 'Chemistry', 'English'], index=['Alice', 'Jack', 'Molly'])\n",
    "s"
   ]
  },
  {
   "cell_type": "code",
   "execution_count": 78,
   "metadata": {},
   "outputs": [],
   "source": [
    "# Here, we shall convert a dictionary to a series\n",
    "students_scores = {'Alice': 'Physics', 'Jack': 'Chemistry', 'Molly': 'English'}\n",
    "s = pd.Series(students_scores)"
   ]
  },
  {
   "cell_type": "markdown",
   "metadata": {},
   "source": [
    "#### **Querying Series**"
   ]
  },
  {
   "cell_type": "code",
   "execution_count": 84,
   "metadata": {},
   "outputs": [
    {
     "name": "stdout",
     "output_type": "stream",
     "text": [
      "English\n",
      "English\n"
     ]
    }
   ],
   "source": [
    "student_classes = {'Alice': 'Physics', 'Jack': 'Chemistry', 'Molly': 'English', 'Sam': 'History'}\n",
    "s2 = pd.Series(student_classes)\n",
    "\n",
    "print(s2.iloc[2])\n",
    "\n",
    "print(s2.loc['Molly'])\n",
    "\n",
    "# Keep in mind that iloc and loc are not methods, they are attributes. So you don't use \n",
    "# parentheses to query them, but square brackets instead, which is called the indexing operator. \n",
    "# In Python this calls get or set for an item depending on the context of its use."
   ]
  },
  {
   "cell_type": "markdown",
   "metadata": {},
   "source": [
    "### **DataFrames Data Structure**"
   ]
  },
  {
   "cell_type": "markdown",
   "metadata": {},
   "source": [
    "The pandas DataFrame. A DataFrame is a two-dimensional data structure composed of rows and columns — exactly like a simple spreadsheet or a SQL table. Each column of a DataFrame is a pandas Series. These columns should be of the same length, but they can be of different data types — float, int, bool, and so on."
   ]
  },
  {
   "cell_type": "code",
   "execution_count": 89,
   "metadata": {},
   "outputs": [
    {
     "name": "stdout",
     "output_type": "stream",
     "text": [
      "    Name      Class  Score\n",
      "0  Alice    Physics     85\n",
      "1   Jack  Chemistry     82\n",
      "2  Helen    Biology     90\n",
      "Without giving it and index, pandas automatically uses integers starting from 0 up to n-1, where n is the number of rows in the data frame.\n",
      "---------------------------------------------------------------------------------------------------------------------------------\n",
      "          Name      Class  Score\n",
      "school1  Alice    Physics     85\n",
      "school2   Jack  Chemistry     82\n",
      "school3  Helen    Biology     90\n",
      "This is how we can insert our index.\n"
     ]
    }
   ],
   "source": [
    "record_1 = pd.Series({'Name': 'Alice', 'Class': 'Physics', 'Score': 85})\n",
    "record_2 = pd.Series({'Name': 'Jack', 'Class': 'Chemistry', 'Score': 82})\n",
    "record_3 = pd.Series({'Name': 'Helen', 'Class': 'Biology', 'Score': 90})\n",
    "\n",
    "df = pd.DataFrame([record_1, record_2, record_3])\n",
    "print(df)\n",
    "print('Without giving it and index, pandas automatically uses integers starting from 0 up to n-1, where n is the number of rows in the data frame.')\n",
    "print('---------------------------------------------------------------------------------------------------------------------------------')\n",
    "df = pd.DataFrame([record_1, record_2, record_3], index=['school1', 'school2', 'school3'])\n",
    "print(df)\n",
    "print('This is how we can insert our index.')"
   ]
  },
  {
   "cell_type": "code",
   "execution_count": 90,
   "metadata": {},
   "outputs": [
    {
     "data": {
      "text/html": [
       "<div>\n",
       "<style scoped>\n",
       "    .dataframe tbody tr th:only-of-type {\n",
       "        vertical-align: middle;\n",
       "    }\n",
       "\n",
       "    .dataframe tbody tr th {\n",
       "        vertical-align: top;\n",
       "    }\n",
       "\n",
       "    .dataframe thead th {\n",
       "        text-align: right;\n",
       "    }\n",
       "</style>\n",
       "<table border=\"1\" class=\"dataframe\">\n",
       "  <thead>\n",
       "    <tr style=\"text-align: right;\">\n",
       "      <th></th>\n",
       "      <th>Name</th>\n",
       "      <th>Class</th>\n",
       "      <th>Score</th>\n",
       "    </tr>\n",
       "  </thead>\n",
       "  <tbody>\n",
       "    <tr>\n",
       "      <th>school1</th>\n",
       "      <td>Alice</td>\n",
       "      <td>Physics</td>\n",
       "      <td>85</td>\n",
       "    </tr>\n",
       "    <tr>\n",
       "      <th>school2</th>\n",
       "      <td>Jack</td>\n",
       "      <td>Chemistry</td>\n",
       "      <td>82</td>\n",
       "    </tr>\n",
       "    <tr>\n",
       "      <th>school1</th>\n",
       "      <td>Helen</td>\n",
       "      <td>Biology</td>\n",
       "      <td>90</td>\n",
       "    </tr>\n",
       "  </tbody>\n",
       "</table>\n",
       "</div>"
      ],
      "text/plain": [
       "          Name      Class  Score\n",
       "school1  Alice    Physics     85\n",
       "school2   Jack  Chemistry     82\n",
       "school1  Helen    Biology     90"
      ]
     },
     "execution_count": 90,
     "metadata": {},
     "output_type": "execute_result"
    }
   ],
   "source": [
    "# You can even use a list of dictionaries to insert into the data frame. \n",
    "\n",
    "students = [{'Name': 'Alice', 'Class': 'Physics', 'Score': 85}, {'Name': 'Jack', 'Class': 'Chemistry', 'Score': 82}, {'Name': 'Helen', 'Class': 'Biology', 'Score': 90}]\n",
    "df = pd.DataFrame(students, index=['school1', 'school2', 'school1'])\n",
    "df"
   ]
  },
  {
   "cell_type": "code",
   "execution_count": 96,
   "metadata": {},
   "outputs": [
    {
     "name": "stdout",
     "output_type": "stream",
     "text": [
      "Name          Jack\n",
      "Class    Chemistry\n",
      "Score           82\n",
      "Name: school2, dtype: object\n",
      "<class 'pandas.core.series.Series'>\n",
      "For a row, the returned labels are from the columns.\n",
      "---------------------------------------------------------------------------------------------------------------------------------\n",
      "          Name    Class  Score\n",
      "school1  Alice  Physics     85\n",
      "school1  Helen  Biology     90\n",
      "<class 'pandas.core.frame.DataFrame'>\n",
      "It's important to remember that the indices and column names along either axes horizontal or vertical, could be non-unique. In this example, we see two records for school1 as different rows. If we use a single value with the DataFrame lock attribute multiple rows of the DataFrame will return, not as a new series, but as a new DataFrame.\n"
     ]
    }
   ],
   "source": [
    "print(df.loc['school2'])\n",
    "print(type(df.loc['school2']))\n",
    "print('For a row, the returned labels are from the columns.')\n",
    "print('---------------------------------------------------------------------------------------------------------------------------------')\n",
    "print(df.loc['school1'])\n",
    "print(type(df.loc['school1']))\n",
    "print('It\\'s important to remember that the indices and column names along either axes horizontal or vertical, could be non-unique. In this example, we see two records for school1 as different rows. If we use a single value with the DataFrame lock attribute multiple rows of the DataFrame will return, not as a new series, but as a new DataFrame.')"
   ]
  },
  {
   "cell_type": "code",
   "execution_count": 97,
   "metadata": {},
   "outputs": [
    {
     "data": {
      "text/plain": [
       "school1    Alice\n",
       "school1    Helen\n",
       "Name: Name, dtype: object"
      ]
     },
     "execution_count": 97,
     "metadata": {},
     "output_type": "execute_result"
    }
   ],
   "source": [
    "# One of the powers of the Panda's DataFrame is that you can quickly select data based on multiple axes.\n",
    "# For instance, if you wanted to just list the student names for school1, you would supply two \n",
    "# parameters to .loc, one being the row index and the other being the column name.\n",
    "\n",
    "# For instance, if we are only interested in school1's student names\n",
    "df.loc['school1', 'Name']"
   ]
  },
  {
   "cell_type": "code",
   "execution_count": null,
   "metadata": {},
   "outputs": [],
   "source": [
    "# Remember, just like the Series, the pandas developers have implemented this using the indexing\n",
    "# operator and not as parameters to a function.\n",
    "\n",
    "# What would we do if we just wanted to select a single column though? Well, there are a few\n",
    "# mechanisms. Firstly, we could transpose the matrix. This pivots all of the rows into columns\n",
    "# and all of the columns into rows, and is done with the T attribute\n",
    "df.T"
   ]
  },
  {
   "cell_type": "markdown",
   "metadata": {},
   "source": [
    "<h3>Please refer to half this lesson to understand wtf is going on <a href='/Week-2/3-DataFrameDataStructure_ed.ipynb'>here</a></h3>"
   ]
  },
  {
   "cell_type": "markdown",
   "metadata": {},
   "source": [
    "### **DataFrame Indexing and Loading**\n"
   ]
  },
  {
   "cell_type": "code",
   "execution_count": 99,
   "metadata": {},
   "outputs": [
    {
     "name": "stdout",
     "output_type": "stream",
     "text": [
      "Serial No.,GRE Score,TOEFL Score,University Rating,SOP,LOR ,CGPA,Research,Chance of Admit \n",
      "1,337,118,4,4.5,4.5,9.65,1,0.92\n",
      "2,324,107,4,4,4.5,8.87,1,0.76\n",
      "3,316,104,3,3,3.5,8,1,0.72\n",
      "4,322,110,3,3.5,2.5,8.67,1,0.8\n",
      "5,314,103,2,2,3,8.21,0,0.65\n",
      "6,330,115,5,4.5,3,9.34,1,0.9\n",
      "7,321,109,3,3,4,8.2,1,0.75\n",
      "8,308,101,2,3,4,7.9,0,0.68\n",
      "9,302,102,1,2,1.5,8,0,0.5\n",
      "10,323,108,3,3.5,3,8.6,0,0.45\n",
      "11,325,106,3,3.5,4,8.4,1,0.52\n",
      "12,327,111,4,4,4.5,9,1,0.84\n",
      "13,328,112,4,4,4.5,9.1,1,0.78\n",
      "14,307,109,3,4,3,8,1,0.62\n",
      "15,311,104,3,3.5,2,8.2,1,0.61\n",
      "16,314,105,3,3.5,2.5,8.3,0,0.54\n",
      "17,317,107,3,4,3,8.7,0,0.66\n",
      "18,319,106,3,4,3,8,1,0.65\n",
      "19,318,110,3,4,3,8.8,0,0.63\n",
      "20,303,102,3,3.5,3,8.5,0,0.62\n",
      "21,312,107,3,3,2,7.9,1,0.64\n",
      "22,325,114,4,3,2,8.4,0,0.7\n",
      "23,328,116,5,5,5,9.5,1,0.94\n",
      "24,334,119,5,5,4.5,9.7,1,0.95\n",
      "25,336,119,5,4,3.5,9.8,1,0.97\n",
      "26,340,120,5,4.5,4.5,9.6,1,0.94\n",
      "27,322,109,5,4.5,3.5,8.8,0,0.76\n",
      "28,298,98,2,1.5,2.5,7.5,1,0.44\n",
      "29,295,93,1,2,2,7.2,0,0.46\n",
      "30,310,99,2,1.5,2,7.3,0,0.54\n",
      "31,300,97,2,3,3,8.1,1,0.65\n",
      "32,327,103,3,4,4,8.3,1,0.74\n",
      "33,338,118,4,3,4.5,9.4,1,0.91\n",
      "34,340,114,5,4,4,9.6,1,0.9\n",
      "35,331,112,5,4,5,9.8,1,0.94\n",
      "36,320,110,5,5,5,9.2,1,0.88\n",
      "37,299,106,2,4,4,8.4,0,0.64\n",
      "38,300,105,1,1,2,7.8,0,0.58\n",
      "39,304,105,1,3,1.5,7.5,0,0.52\n",
      "40,307,108,2,4,3.5,7.7,0,0.48\n",
      "41,308,110,3,3.5,3,8,1,0.46\n",
      "42,316,105,2,2.5,2.5,8.2,1,0.49\n",
      "43,313,107,2,2.5,2,8.5,1,0.53\n",
      "44,332,117,4,4.5,4,9.1,0,0.87\n",
      "45,326,113,5,4.5,4,9.4,1,0.91\n",
      "46,322,110,5,5,4,9.1,1,0.88\n",
      "47,329,114,5,4,5,9.3,1,0.86\n",
      "48,339,119,5,4.5,4,9.7,0,0.89\n",
      "49,321,110,3,3.5,5,8.85,1,0.82\n",
      "50,327,111,4,3,4,8.4,1,0.78\n",
      "51,313,98,3,2.5,4.5,8.3,1,0.76\n",
      "52,312,100,2,1.5,3.5,7.9,1,0.56\n",
      "53,334,116,4,4,3,8,1,0.78\n",
      "54,324,112,4,4,2.5,8.1,1,0.72\n",
      "55,322,110,3,3,3.5,8,0,0.7\n",
      "56,320,103,3,3,3,7.7,0,0.64\n",
      "57,316,102,3,2,3,7.4,0,0.64\n",
      "58,298,99,2,4,2,7.6,0,0.46\n",
      "59,300,99,1,3,2,6.8,1,0.36\n",
      "60,311,104,2,2,2,8.3,0,0.42\n",
      "61,309,100,2,3,3,8.1,0,0.48\n",
      "62,307,101,3,4,3,8.2,0,0.47\n",
      "63,304,105,2,3,3,8.2,1,0.54\n",
      "64,315,107,2,4,3,8.5,1,0.56\n",
      "65,325,111,3,3,3.5,8.7,0,0.52\n",
      "66,325,112,4,3.5,3.5,8.92,0,0.55\n",
      "67,327,114,3,3,3,9.02,0,0.61\n",
      "68,316,107,2,3.5,3.5,8.64,1,0.57\n",
      "69,318,109,3,3.5,4,9.22,1,0.68\n",
      "70,328,115,4,4.5,4,9.16,1,0.78\n",
      "71,332,118,5,5,5,9.64,1,0.94\n",
      "72,336,112,5,5,5,9.76,1,0.96\n",
      "73,321,111,5,5,5,9.45,1,0.93\n",
      "74,314,108,4,4.5,4,9.04,1,0.84\n",
      "75,314,106,3,3,5,8.9,0,0.74\n",
      "76,329,114,2,2,4,8.56,1,0.72\n",
      "77,327,112,3,3,3,8.72,1,0.74\n",
      "78,301,99,2,3,2,8.22,0,0.64\n",
      "79,296,95,2,3,2,7.54,1,0.44\n",
      "80,294,93,1,1.5,2,7.36,0,0.46\n",
      "81,312,105,3,2,3,8.02,1,0.5\n",
      "82,340,120,4,5,5,9.5,1,0.96\n",
      "83,320,110,5,5,4.5,9.22,1,0.92\n",
      "84,322,115,5,4,4.5,9.36,1,0.92\n",
      "85,340,115,5,4.5,4.5,9.45,1,0.94\n",
      "86,319,103,4,4.5,3.5,8.66,0,0.76\n",
      "87,315,106,3,4.5,3.5,8.42,0,0.72\n",
      "88,317,107,2,3.5,3,8.28,0,0.66\n",
      "89,314,108,3,4.5,3.5,8.14,0,0.64\n",
      "90,316,109,4,4.5,3.5,8.76,1,0.74\n",
      "91,318,106,2,4,4,7.92,1,0.64\n",
      "92,299,97,3,5,3.5,7.66,0,0.38\n",
      "93,298,98,2,4,3,8.03,0,0.34\n",
      "94,301,97,2,3,3,7.88,1,0.44\n",
      "95,303,99,3,2,2.5,7.66,0,0.36\n",
      "96,304,100,4,1.5,2.5,7.84,0,0.42\n",
      "97,306,100,2,3,3,8,0,0.48\n",
      "98,331,120,3,4,4,8.96,1,0.86\n",
      "99,332,119,4,5,4.5,9.24,1,0.9\n",
      "100,323,113,3,4,4,8.88,1,0.79\n",
      "101,322,107,3,3.5,3.5,8.46,1,0.71\n",
      "102,312,105,2,2.5,3,8.12,0,0.64\n",
      "103,314,106,2,4,3.5,8.25,0,0.62\n",
      "104,317,104,2,4.5,4,8.47,0,0.57\n",
      "105,326,112,3,3.5,3,9.05,1,0.74\n",
      "106,316,110,3,4,4.5,8.78,1,0.69\n",
      "107,329,111,4,4.5,4.5,9.18,1,0.87\n",
      "108,338,117,4,3.5,4.5,9.46,1,0.91\n",
      "109,331,116,5,5,5,9.38,1,0.93\n",
      "110,304,103,5,5,4,8.64,0,0.68\n",
      "111,305,108,5,3,3,8.48,0,0.61\n",
      "112,321,109,4,4,4,8.68,1,0.69\n",
      "113,301,107,3,3.5,3.5,8.34,1,0.62\n",
      "114,320,110,2,4,3.5,8.56,0,0.72\n",
      "115,311,105,3,3.5,3,8.45,1,0.59\n",
      "116,310,106,4,4.5,4.5,9.04,1,0.66\n",
      "117,299,102,3,4,3.5,8.62,0,0.56\n",
      "118,290,104,4,2,2.5,7.46,0,0.45\n",
      "119,296,99,2,3,3.5,7.28,0,0.47\n",
      "120,327,104,5,3,3.5,8.84,1,0.71\n",
      "121,335,117,5,5,5,9.56,1,0.94\n",
      "122,334,119,5,4.5,4.5,9.48,1,0.94\n",
      "123,310,106,4,1.5,2.5,8.36,0,0.57\n",
      "124,308,108,3,3.5,3.5,8.22,0,0.61\n",
      "125,301,106,4,2.5,3,8.47,0,0.57\n",
      "126,300,100,3,2,3,8.66,1,0.64\n",
      "127,323,113,3,4,3,9.32,1,0.85\n",
      "128,319,112,3,2.5,2,8.71,1,0.78\n",
      "129,326,112,3,3.5,3,9.1,1,0.84\n",
      "130,333,118,5,5,5,9.35,1,0.92\n",
      "131,339,114,5,4,4.5,9.76,1,0.96\n",
      "132,303,105,5,5,4.5,8.65,0,0.77\n",
      "133,309,105,5,3.5,3.5,8.56,0,0.71\n",
      "134,323,112,5,4,4.5,8.78,0,0.79\n",
      "135,333,113,5,4,4,9.28,1,0.89\n",
      "136,314,109,4,3.5,4,8.77,1,0.82\n",
      "137,312,103,3,5,4,8.45,0,0.76\n",
      "138,316,100,2,1.5,3,8.16,1,0.71\n",
      "139,326,116,2,4.5,3,9.08,1,0.8\n",
      "140,318,109,1,3.5,3.5,9.12,0,0.78\n",
      "141,329,110,2,4,3,9.15,1,0.84\n",
      "142,332,118,2,4.5,3.5,9.36,1,0.9\n",
      "143,331,115,5,4,3.5,9.44,1,0.92\n",
      "144,340,120,4,4.5,4,9.92,1,0.97\n",
      "145,325,112,2,3,3.5,8.96,1,0.8\n",
      "146,320,113,2,2,2.5,8.64,1,0.81\n",
      "147,315,105,3,2,2.5,8.48,0,0.75\n",
      "148,326,114,3,3,3,9.11,1,0.83\n",
      "149,339,116,4,4,3.5,9.8,1,0.96\n",
      "150,311,106,2,3.5,3,8.26,1,0.79\n",
      "151,334,114,4,4,4,9.43,1,0.93\n",
      "152,332,116,5,5,5,9.28,1,0.94\n",
      "153,321,112,5,5,5,9.06,1,0.86\n",
      "154,324,105,3,3,4,8.75,0,0.79\n",
      "155,326,108,3,3,3.5,8.89,0,0.8\n",
      "156,312,109,3,3,3,8.69,0,0.77\n",
      "157,315,105,3,2,2.5,8.34,0,0.7\n",
      "158,309,104,2,2,2.5,8.26,0,0.65\n",
      "159,306,106,2,2,2.5,8.14,0,0.61\n",
      "160,297,100,1,1.5,2,7.9,0,0.52\n",
      "161,315,103,1,1.5,2,7.86,0,0.57\n",
      "162,298,99,1,1.5,3,7.46,0,0.53\n",
      "163,318,109,3,3,3,8.5,0,0.67\n",
      "164,317,105,3,3.5,3,8.56,0,0.68\n",
      "165,329,111,4,4.5,4,9.01,1,0.81\n",
      "166,322,110,5,4.5,4,8.97,0,0.78\n",
      "167,302,102,3,3.5,5,8.33,0,0.65\n",
      "168,313,102,3,2,3,8.27,0,0.64\n",
      "169,293,97,2,2,4,7.8,1,0.64\n",
      "170,311,99,2,2.5,3,7.98,0,0.65\n",
      "171,312,101,2,2.5,3.5,8.04,1,0.68\n",
      "172,334,117,5,4,4.5,9.07,1,0.89\n",
      "173,322,110,4,4,5,9.13,1,0.86\n",
      "174,323,113,4,4,4.5,9.23,1,0.89\n",
      "175,321,111,4,4,4,8.97,1,0.87\n",
      "176,320,111,4,4.5,3.5,8.87,1,0.85\n",
      "177,329,119,4,4.5,4.5,9.16,1,0.9\n",
      "178,319,110,3,3.5,3.5,9.04,0,0.82\n",
      "179,309,108,3,2.5,3,8.12,0,0.72\n",
      "180,307,102,3,3,3,8.27,0,0.73\n",
      "181,300,104,3,3.5,3,8.16,0,0.71\n",
      "182,305,107,2,2.5,2.5,8.42,0,0.71\n",
      "183,299,100,2,3,3.5,7.88,0,0.68\n",
      "184,314,110,3,4,4,8.8,0,0.75\n",
      "185,316,106,2,2.5,4,8.32,0,0.72\n",
      "186,327,113,4,4.5,4.5,9.11,1,0.89\n",
      "187,317,107,3,3.5,3,8.68,1,0.84\n",
      "188,335,118,5,4.5,3.5,9.44,1,0.93\n",
      "189,331,115,5,4.5,3.5,9.36,1,0.93\n",
      "190,324,112,5,5,5,9.08,1,0.88\n",
      "191,324,111,5,4.5,4,9.16,1,0.9\n",
      "192,323,110,5,4,5,8.98,1,0.87\n",
      "193,322,114,5,4.5,4,8.94,1,0.86\n",
      "194,336,118,5,4.5,5,9.53,1,0.94\n",
      "195,316,109,3,3.5,3,8.76,0,0.77\n",
      "196,307,107,2,3,3.5,8.52,1,0.78\n",
      "197,306,105,2,3,2.5,8.26,0,0.73\n",
      "198,310,106,2,3.5,2.5,8.33,0,0.73\n",
      "199,311,104,3,4.5,4.5,8.43,0,0.7\n",
      "200,313,107,3,4,4.5,8.69,0,0.72\n",
      "201,317,103,3,2.5,3,8.54,1,0.73\n",
      "202,315,110,2,3.5,3,8.46,1,0.72\n",
      "203,340,120,5,4.5,4.5,9.91,1,0.97\n",
      "204,334,120,5,4,5,9.87,1,0.97\n",
      "205,298,105,3,3.5,4,8.54,0,0.69\n",
      "206,295,99,2,2.5,3,7.65,0,0.57\n",
      "207,315,99,2,3.5,3,7.89,0,0.63\n",
      "208,310,102,3,3.5,4,8.02,1,0.66\n",
      "209,305,106,2,3,3,8.16,0,0.64\n",
      "210,301,104,3,3.5,4,8.12,1,0.68\n",
      "211,325,108,4,4.5,4,9.06,1,0.79\n",
      "212,328,110,4,5,4,9.14,1,0.82\n",
      "213,338,120,4,5,5,9.66,1,0.95\n",
      "214,333,119,5,5,4.5,9.78,1,0.96\n",
      "215,331,117,4,4.5,5,9.42,1,0.94\n",
      "216,330,116,5,5,4.5,9.36,1,0.93\n",
      "217,322,112,4,4.5,4.5,9.26,1,0.91\n",
      "218,321,109,4,4,4,9.13,1,0.85\n",
      "219,324,110,4,3,3.5,8.97,1,0.84\n",
      "220,312,104,3,3.5,3.5,8.42,0,0.74\n",
      "221,313,103,3,4,4,8.75,0,0.76\n",
      "222,316,110,3,3.5,4,8.56,0,0.75\n",
      "223,324,113,4,4.5,4,8.79,0,0.76\n",
      "224,308,109,2,3,4,8.45,0,0.71\n",
      "225,305,105,2,3,2,8.23,0,0.67\n",
      "226,296,99,2,2.5,2.5,8.03,0,0.61\n",
      "227,306,110,2,3.5,4,8.45,0,0.63\n",
      "228,312,110,2,3.5,3,8.53,0,0.64\n",
      "229,318,112,3,4,3.5,8.67,0,0.71\n",
      "230,324,111,4,3,3,9.01,1,0.82\n",
      "231,313,104,3,4,4.5,8.65,0,0.73\n",
      "232,319,106,3,3.5,2.5,8.33,1,0.74\n",
      "233,312,107,2,2.5,3.5,8.27,0,0.69\n",
      "234,304,100,2,2.5,3.5,8.07,0,0.64\n",
      "235,330,113,5,5,4,9.31,1,0.91\n",
      "236,326,111,5,4.5,4,9.23,1,0.88\n",
      "237,325,112,4,4,4.5,9.17,1,0.85\n",
      "238,329,114,5,4.5,5,9.19,1,0.86\n",
      "239,310,104,3,2,3.5,8.37,0,0.7\n",
      "240,299,100,1,1.5,2,7.89,0,0.59\n",
      "241,296,101,1,2.5,3,7.68,0,0.6\n",
      "242,317,103,2,2.5,2,8.15,0,0.65\n",
      "243,324,115,3,3.5,3,8.76,1,0.7\n",
      "244,325,114,3,3.5,3,9.04,1,0.76\n",
      "245,314,107,2,2.5,4,8.56,0,0.63\n",
      "246,328,110,4,4,2.5,9.02,1,0.81\n",
      "247,316,105,3,3,3.5,8.73,0,0.72\n",
      "248,311,104,2,2.5,3.5,8.48,0,0.71\n",
      "249,324,110,3,3.5,4,8.87,1,0.8\n",
      "250,321,111,3,3.5,4,8.83,1,0.77\n",
      "251,320,104,3,3,2.5,8.57,1,0.74\n",
      "252,316,99,2,2.5,3,9,0,0.7\n",
      "253,318,100,2,2.5,3.5,8.54,1,0.71\n",
      "254,335,115,4,4.5,4.5,9.68,1,0.93\n",
      "255,321,114,4,4,5,9.12,0,0.85\n",
      "256,307,110,4,4,4.5,8.37,0,0.79\n",
      "257,309,99,3,4,4,8.56,0,0.76\n",
      "258,324,100,3,4,5,8.64,1,0.78\n",
      "259,326,102,4,5,5,8.76,1,0.77\n",
      "260,331,119,4,5,4.5,9.34,1,0.9\n",
      "261,327,108,5,5,3.5,9.13,1,0.87\n",
      "262,312,104,3,3.5,4,8.09,0,0.71\n",
      "263,308,103,2,2.5,4,8.36,1,0.7\n",
      "264,324,111,3,2.5,1.5,8.79,1,0.7\n",
      "265,325,110,2,3,2.5,8.76,1,0.75\n",
      "266,313,102,3,2.5,2.5,8.68,0,0.71\n",
      "267,312,105,2,2,2.5,8.45,0,0.72\n",
      "268,314,107,3,3,3.5,8.17,1,0.73\n",
      "269,327,113,4,4.5,5,9.14,0,0.83\n",
      "270,308,108,4,4.5,5,8.34,0,0.77\n",
      "271,306,105,2,2.5,3,8.22,1,0.72\n",
      "272,299,96,2,1.5,2,7.86,0,0.54\n",
      "273,294,95,1,1.5,1.5,7.64,0,0.49\n",
      "274,312,99,1,1,1.5,8.01,1,0.52\n",
      "275,315,100,1,2,2.5,7.95,0,0.58\n",
      "276,322,110,3,3.5,3,8.96,1,0.78\n",
      "277,329,113,5,5,4.5,9.45,1,0.89\n",
      "278,320,101,2,2.5,3,8.62,0,0.7\n",
      "279,308,103,2,3,3.5,8.49,0,0.66\n",
      "280,304,102,2,3,4,8.73,0,0.67\n",
      "281,311,102,3,4.5,4,8.64,1,0.68\n",
      "282,317,110,3,4,4.5,9.11,1,0.8\n",
      "283,312,106,3,4,3.5,8.79,1,0.81\n",
      "284,321,111,3,2.5,3,8.9,1,0.8\n",
      "285,340,112,4,5,4.5,9.66,1,0.94\n",
      "286,331,116,5,4,4,9.26,1,0.93\n",
      "287,336,118,5,4.5,4,9.19,1,0.92\n",
      "288,324,114,5,5,4.5,9.08,1,0.89\n",
      "289,314,104,4,5,5,9.02,0,0.82\n",
      "290,313,109,3,4,3.5,9,0,0.79\n",
      "291,307,105,2,2.5,3,7.65,0,0.58\n",
      "292,300,102,2,1.5,2,7.87,0,0.56\n",
      "293,302,99,2,1,2,7.97,0,0.56\n",
      "294,312,98,1,3.5,3,8.18,1,0.64\n",
      "295,316,101,2,2.5,2,8.32,1,0.61\n",
      "296,317,100,2,3,2.5,8.57,0,0.68\n",
      "297,310,107,3,3.5,3.5,8.67,0,0.76\n",
      "298,320,120,3,4,4.5,9.11,0,0.86\n",
      "299,330,114,3,4.5,4.5,9.24,1,0.9\n",
      "300,305,112,3,3,3.5,8.65,0,0.71\n",
      "301,309,106,2,2.5,2.5,8,0,0.62\n",
      "302,319,108,2,2.5,3,8.76,0,0.66\n",
      "303,322,105,2,3,3,8.45,1,0.65\n",
      "304,323,107,3,3.5,3.5,8.55,1,0.73\n",
      "305,313,106,2,2.5,2,8.43,0,0.62\n",
      "306,321,109,3,3.5,3.5,8.8,1,0.74\n",
      "307,323,110,3,4,3.5,9.1,1,0.79\n",
      "308,325,112,4,4,4,9,1,0.8\n",
      "309,312,108,3,3.5,3,8.53,0,0.69\n",
      "310,308,110,4,3.5,3,8.6,0,0.7\n",
      "311,320,104,3,3,3.5,8.74,1,0.76\n",
      "312,328,108,4,4.5,4,9.18,1,0.84\n",
      "313,311,107,4,4.5,4.5,9,1,0.78\n",
      "314,301,100,3,3.5,3,8.04,0,0.67\n",
      "315,305,105,2,3,4,8.13,0,0.66\n",
      "316,308,104,2,2.5,3,8.07,0,0.65\n",
      "317,298,101,2,1.5,2,7.86,0,0.54\n",
      "318,300,99,1,1,2.5,8.01,0,0.58\n",
      "319,324,111,3,2.5,2,8.8,1,0.79\n",
      "320,327,113,4,3.5,3,8.69,1,0.8\n",
      "321,317,106,3,4,3.5,8.5,1,0.75\n",
      "322,323,104,3,4,4,8.44,1,0.73\n",
      "323,314,107,2,2.5,4,8.27,0,0.72\n",
      "324,305,102,2,2,2.5,8.18,0,0.62\n",
      "325,315,104,3,3,2.5,8.33,0,0.67\n",
      "326,326,116,3,3.5,4,9.14,1,0.81\n",
      "327,299,100,3,2,2,8.02,0,0.63\n",
      "328,295,101,2,2.5,2,7.86,0,0.69\n",
      "329,324,112,4,4,3.5,8.77,1,0.8\n",
      "330,297,96,2,2.5,1.5,7.89,0,0.43\n",
      "331,327,113,3,3.5,3,8.66,1,0.8\n",
      "332,311,105,2,3,2,8.12,1,0.73\n",
      "333,308,106,3,3.5,2.5,8.21,1,0.75\n",
      "334,319,108,3,3,3.5,8.54,1,0.71\n",
      "335,312,107,4,4.5,4,8.65,1,0.73\n",
      "336,325,111,4,4,4.5,9.11,1,0.83\n",
      "337,319,110,3,3,2.5,8.79,0,0.72\n",
      "338,332,118,5,5,5,9.47,1,0.94\n",
      "339,323,108,5,4,4,8.74,1,0.81\n",
      "340,324,107,5,3.5,4,8.66,1,0.81\n",
      "341,312,107,3,3,3,8.46,1,0.75\n",
      "342,326,110,3,3.5,3.5,8.76,1,0.79\n",
      "343,308,106,3,3,3,8.24,0,0.58\n",
      "344,305,103,2,2.5,3.5,8.13,0,0.59\n",
      "345,295,96,2,1.5,2,7.34,0,0.47\n",
      "346,316,98,1,1.5,2,7.43,0,0.49\n",
      "347,304,97,2,1.5,2,7.64,0,0.47\n",
      "348,299,94,1,1,1,7.34,0,0.42\n",
      "349,302,99,1,2,2,7.25,0,0.57\n",
      "350,313,101,3,2.5,3,8.04,0,0.62\n",
      "351,318,107,3,3,3.5,8.27,1,0.74\n",
      "352,325,110,4,3.5,4,8.67,1,0.73\n",
      "353,303,100,2,3,3.5,8.06,1,0.64\n",
      "354,300,102,3,3.5,2.5,8.17,0,0.63\n",
      "355,297,98,2,2.5,3,7.67,0,0.59\n",
      "356,317,106,2,2,3.5,8.12,0,0.73\n",
      "357,327,109,3,3.5,4,8.77,1,0.79\n",
      "358,301,104,2,3.5,3.5,7.89,1,0.68\n",
      "359,314,105,2,2.5,2,7.64,0,0.7\n",
      "360,321,107,2,2,1.5,8.44,0,0.81\n",
      "361,322,110,3,4,5,8.64,1,0.85\n",
      "362,334,116,4,4,3.5,9.54,1,0.93\n",
      "363,338,115,5,4.5,5,9.23,1,0.91\n",
      "364,306,103,2,2.5,3,8.36,0,0.69\n",
      "365,313,102,3,3.5,4,8.9,1,0.77\n",
      "366,330,114,4,4.5,3,9.17,1,0.86\n",
      "367,320,104,3,3.5,4.5,8.34,1,0.74\n",
      "368,311,98,1,1,2.5,7.46,0,0.57\n",
      "369,298,92,1,2,2,7.88,0,0.51\n",
      "370,301,98,1,2,3,8.03,1,0.67\n",
      "371,310,103,2,2.5,2.5,8.24,0,0.72\n",
      "372,324,110,3,3.5,3,9.22,1,0.89\n",
      "373,336,119,4,4.5,4,9.62,1,0.95\n",
      "374,321,109,3,3,3,8.54,1,0.79\n",
      "375,315,105,2,2,2.5,7.65,0,0.39\n",
      "376,304,101,2,2,2.5,7.66,0,0.38\n",
      "377,297,96,2,2.5,2,7.43,0,0.34\n",
      "378,290,100,1,1.5,2,7.56,0,0.47\n",
      "379,303,98,1,2,2.5,7.65,0,0.56\n",
      "380,311,99,1,2.5,3,8.43,1,0.71\n",
      "381,322,104,3,3.5,4,8.84,1,0.78\n",
      "382,319,105,3,3,3.5,8.67,1,0.73\n",
      "383,324,110,4,4.5,4,9.15,1,0.82\n",
      "384,300,100,3,3,3.5,8.26,0,0.62\n",
      "385,340,113,4,5,5,9.74,1,0.96\n",
      "386,335,117,5,5,5,9.82,1,0.96\n",
      "387,302,101,2,2.5,3.5,7.96,0,0.46\n",
      "388,307,105,2,2,3.5,8.1,0,0.53\n",
      "389,296,97,2,1.5,2,7.8,0,0.49\n",
      "390,320,108,3,3.5,4,8.44,1,0.76\n",
      "391,314,102,2,2,2.5,8.24,0,0.64\n",
      "392,318,106,3,2,3,8.65,0,0.71\n",
      "393,326,112,4,4,3.5,9.12,1,0.84\n",
      "394,317,104,2,3,3,8.76,0,0.77\n",
      "395,329,111,4,4.5,4,9.23,1,0.89\n",
      "396,324,110,3,3.5,3.5,9.04,1,0.82\n",
      "397,325,107,3,3,3.5,9.11,1,0.84\n",
      "398,330,116,4,5,4.5,9.45,1,0.91\n",
      "399,312,103,3,3.5,4,8.78,0,0.67\n",
      "400,333,117,4,5,4,9.66,1,0.95"
     ]
    }
   ],
   "source": [
    "!cat \"../datasets/Admission_Predict.csv\""
   ]
  },
  {
   "cell_type": "code",
   "execution_count": 103,
   "metadata": {},
   "outputs": [
    {
     "name": "stdout",
     "output_type": "stream",
     "text": [
      "--------------------------------------------------------------------------------------------------\n"
     ]
    },
    {
     "data": {
      "text/html": [
       "<div>\n",
       "<style scoped>\n",
       "    .dataframe tbody tr th:only-of-type {\n",
       "        vertical-align: middle;\n",
       "    }\n",
       "\n",
       "    .dataframe tbody tr th {\n",
       "        vertical-align: top;\n",
       "    }\n",
       "\n",
       "    .dataframe thead th {\n",
       "        text-align: right;\n",
       "    }\n",
       "</style>\n",
       "<table border=\"1\" class=\"dataframe\">\n",
       "  <thead>\n",
       "    <tr style=\"text-align: right;\">\n",
       "      <th></th>\n",
       "      <th>GRE Score</th>\n",
       "      <th>TOEFL Score</th>\n",
       "      <th>University Rating</th>\n",
       "      <th>SOP</th>\n",
       "      <th>LOR</th>\n",
       "      <th>CGPA</th>\n",
       "      <th>Research</th>\n",
       "      <th>Chance of Admit</th>\n",
       "    </tr>\n",
       "    <tr>\n",
       "      <th>Serial No.</th>\n",
       "      <th></th>\n",
       "      <th></th>\n",
       "      <th></th>\n",
       "      <th></th>\n",
       "      <th></th>\n",
       "      <th></th>\n",
       "      <th></th>\n",
       "      <th></th>\n",
       "    </tr>\n",
       "  </thead>\n",
       "  <tbody>\n",
       "    <tr>\n",
       "      <th>1</th>\n",
       "      <td>337</td>\n",
       "      <td>118</td>\n",
       "      <td>4</td>\n",
       "      <td>4.5</td>\n",
       "      <td>4.5</td>\n",
       "      <td>9.65</td>\n",
       "      <td>1</td>\n",
       "      <td>0.92</td>\n",
       "    </tr>\n",
       "    <tr>\n",
       "      <th>2</th>\n",
       "      <td>324</td>\n",
       "      <td>107</td>\n",
       "      <td>4</td>\n",
       "      <td>4.0</td>\n",
       "      <td>4.5</td>\n",
       "      <td>8.87</td>\n",
       "      <td>1</td>\n",
       "      <td>0.76</td>\n",
       "    </tr>\n",
       "    <tr>\n",
       "      <th>3</th>\n",
       "      <td>316</td>\n",
       "      <td>104</td>\n",
       "      <td>3</td>\n",
       "      <td>3.0</td>\n",
       "      <td>3.5</td>\n",
       "      <td>8.00</td>\n",
       "      <td>1</td>\n",
       "      <td>0.72</td>\n",
       "    </tr>\n",
       "    <tr>\n",
       "      <th>4</th>\n",
       "      <td>322</td>\n",
       "      <td>110</td>\n",
       "      <td>3</td>\n",
       "      <td>3.5</td>\n",
       "      <td>2.5</td>\n",
       "      <td>8.67</td>\n",
       "      <td>1</td>\n",
       "      <td>0.80</td>\n",
       "    </tr>\n",
       "    <tr>\n",
       "      <th>5</th>\n",
       "      <td>314</td>\n",
       "      <td>103</td>\n",
       "      <td>2</td>\n",
       "      <td>2.0</td>\n",
       "      <td>3.0</td>\n",
       "      <td>8.21</td>\n",
       "      <td>0</td>\n",
       "      <td>0.65</td>\n",
       "    </tr>\n",
       "    <tr>\n",
       "      <th>...</th>\n",
       "      <td>...</td>\n",
       "      <td>...</td>\n",
       "      <td>...</td>\n",
       "      <td>...</td>\n",
       "      <td>...</td>\n",
       "      <td>...</td>\n",
       "      <td>...</td>\n",
       "      <td>...</td>\n",
       "    </tr>\n",
       "    <tr>\n",
       "      <th>396</th>\n",
       "      <td>324</td>\n",
       "      <td>110</td>\n",
       "      <td>3</td>\n",
       "      <td>3.5</td>\n",
       "      <td>3.5</td>\n",
       "      <td>9.04</td>\n",
       "      <td>1</td>\n",
       "      <td>0.82</td>\n",
       "    </tr>\n",
       "    <tr>\n",
       "      <th>397</th>\n",
       "      <td>325</td>\n",
       "      <td>107</td>\n",
       "      <td>3</td>\n",
       "      <td>3.0</td>\n",
       "      <td>3.5</td>\n",
       "      <td>9.11</td>\n",
       "      <td>1</td>\n",
       "      <td>0.84</td>\n",
       "    </tr>\n",
       "    <tr>\n",
       "      <th>398</th>\n",
       "      <td>330</td>\n",
       "      <td>116</td>\n",
       "      <td>4</td>\n",
       "      <td>5.0</td>\n",
       "      <td>4.5</td>\n",
       "      <td>9.45</td>\n",
       "      <td>1</td>\n",
       "      <td>0.91</td>\n",
       "    </tr>\n",
       "    <tr>\n",
       "      <th>399</th>\n",
       "      <td>312</td>\n",
       "      <td>103</td>\n",
       "      <td>3</td>\n",
       "      <td>3.5</td>\n",
       "      <td>4.0</td>\n",
       "      <td>8.78</td>\n",
       "      <td>0</td>\n",
       "      <td>0.67</td>\n",
       "    </tr>\n",
       "    <tr>\n",
       "      <th>400</th>\n",
       "      <td>333</td>\n",
       "      <td>117</td>\n",
       "      <td>4</td>\n",
       "      <td>5.0</td>\n",
       "      <td>4.0</td>\n",
       "      <td>9.66</td>\n",
       "      <td>1</td>\n",
       "      <td>0.95</td>\n",
       "    </tr>\n",
       "  </tbody>\n",
       "</table>\n",
       "<p>400 rows × 8 columns</p>\n",
       "</div>"
      ],
      "text/plain": [
       "            GRE Score  TOEFL Score  University Rating  SOP  LOR   CGPA  \\\n",
       "Serial No.                                                               \n",
       "1                 337          118                  4  4.5   4.5  9.65   \n",
       "2                 324          107                  4  4.0   4.5  8.87   \n",
       "3                 316          104                  3  3.0   3.5  8.00   \n",
       "4                 322          110                  3  3.5   2.5  8.67   \n",
       "5                 314          103                  2  2.0   3.0  8.21   \n",
       "...               ...          ...                ...  ...   ...   ...   \n",
       "396               324          110                  3  3.5   3.5  9.04   \n",
       "397               325          107                  3  3.0   3.5  9.11   \n",
       "398               330          116                  4  5.0   4.5  9.45   \n",
       "399               312          103                  3  3.5   4.0  8.78   \n",
       "400               333          117                  4  5.0   4.0  9.66   \n",
       "\n",
       "            Research  Chance of Admit   \n",
       "Serial No.                              \n",
       "1                  1              0.92  \n",
       "2                  1              0.76  \n",
       "3                  1              0.72  \n",
       "4                  1              0.80  \n",
       "5                  0              0.65  \n",
       "...              ...               ...  \n",
       "396                1              0.82  \n",
       "397                1              0.84  \n",
       "398                1              0.91  \n",
       "399                0              0.67  \n",
       "400                1              0.95  \n",
       "\n",
       "[400 rows x 8 columns]"
      ]
     },
     "execution_count": 103,
     "metadata": {},
     "output_type": "execute_result"
    }
   ],
   "source": [
    "# Pandas made it easy to turn a csv file into a data frame\n",
    "df = pd.read_csv('../datasets/Admission_Predict.csv')\n",
    "df.head()\n",
    "print('--------------------------------------------------------------------------------------------------')\n"
   ]
  },
  {
   "cell_type": "code",
   "execution_count": 104,
   "metadata": {},
   "outputs": [
    {
     "data": {
      "text/html": [
       "<div>\n",
       "<style scoped>\n",
       "    .dataframe tbody tr th:only-of-type {\n",
       "        vertical-align: middle;\n",
       "    }\n",
       "\n",
       "    .dataframe tbody tr th {\n",
       "        vertical-align: top;\n",
       "    }\n",
       "\n",
       "    .dataframe thead th {\n",
       "        text-align: right;\n",
       "    }\n",
       "</style>\n",
       "<table border=\"1\" class=\"dataframe\">\n",
       "  <thead>\n",
       "    <tr style=\"text-align: right;\">\n",
       "      <th></th>\n",
       "      <th>GRE Score</th>\n",
       "      <th>TOEFL Score</th>\n",
       "      <th>University Rating</th>\n",
       "      <th>SOP</th>\n",
       "      <th>LOR</th>\n",
       "      <th>CGPA</th>\n",
       "      <th>Research</th>\n",
       "      <th>Chance of Admit</th>\n",
       "    </tr>\n",
       "    <tr>\n",
       "      <th>Serial No.</th>\n",
       "      <th></th>\n",
       "      <th></th>\n",
       "      <th></th>\n",
       "      <th></th>\n",
       "      <th></th>\n",
       "      <th></th>\n",
       "      <th></th>\n",
       "      <th></th>\n",
       "    </tr>\n",
       "  </thead>\n",
       "  <tbody>\n",
       "    <tr>\n",
       "      <th>1</th>\n",
       "      <td>337</td>\n",
       "      <td>118</td>\n",
       "      <td>4</td>\n",
       "      <td>4.5</td>\n",
       "      <td>4.5</td>\n",
       "      <td>9.65</td>\n",
       "      <td>1</td>\n",
       "      <td>0.92</td>\n",
       "    </tr>\n",
       "    <tr>\n",
       "      <th>2</th>\n",
       "      <td>324</td>\n",
       "      <td>107</td>\n",
       "      <td>4</td>\n",
       "      <td>4.0</td>\n",
       "      <td>4.5</td>\n",
       "      <td>8.87</td>\n",
       "      <td>1</td>\n",
       "      <td>0.76</td>\n",
       "    </tr>\n",
       "    <tr>\n",
       "      <th>3</th>\n",
       "      <td>316</td>\n",
       "      <td>104</td>\n",
       "      <td>3</td>\n",
       "      <td>3.0</td>\n",
       "      <td>3.5</td>\n",
       "      <td>8.00</td>\n",
       "      <td>1</td>\n",
       "      <td>0.72</td>\n",
       "    </tr>\n",
       "    <tr>\n",
       "      <th>4</th>\n",
       "      <td>322</td>\n",
       "      <td>110</td>\n",
       "      <td>3</td>\n",
       "      <td>3.5</td>\n",
       "      <td>2.5</td>\n",
       "      <td>8.67</td>\n",
       "      <td>1</td>\n",
       "      <td>0.80</td>\n",
       "    </tr>\n",
       "    <tr>\n",
       "      <th>5</th>\n",
       "      <td>314</td>\n",
       "      <td>103</td>\n",
       "      <td>2</td>\n",
       "      <td>2.0</td>\n",
       "      <td>3.0</td>\n",
       "      <td>8.21</td>\n",
       "      <td>0</td>\n",
       "      <td>0.65</td>\n",
       "    </tr>\n",
       "  </tbody>\n",
       "</table>\n",
       "</div>"
      ],
      "text/plain": [
       "            GRE Score  TOEFL Score  University Rating  SOP  LOR   CGPA  \\\n",
       "Serial No.                                                               \n",
       "1                 337          118                  4  4.5   4.5  9.65   \n",
       "2                 324          107                  4  4.0   4.5  8.87   \n",
       "3                 316          104                  3  3.0   3.5  8.00   \n",
       "4                 322          110                  3  3.5   2.5  8.67   \n",
       "5                 314          103                  2  2.0   3.0  8.21   \n",
       "\n",
       "            Research  Chance of Admit   \n",
       "Serial No.                              \n",
       "1                  1              0.92  \n",
       "2                  1              0.76  \n",
       "3                  1              0.72  \n",
       "4                  1              0.80  \n",
       "5                  0              0.65  "
      ]
     },
     "execution_count": 104,
     "metadata": {},
     "output_type": "execute_result"
    }
   ],
   "source": [
    "# You can make the serial number an index\n",
    "df = pd.read_csv('../datasets/Admission_Predict.csv', index_col=0)\n",
    "df.head()"
   ]
  },
  {
   "cell_type": "code",
   "execution_count": 114,
   "metadata": {},
   "outputs": [
    {
     "data": {
      "text/plain": [
       "Index(['GRE Score', 'TOEFL Score', 'University Rating', 'SOP', 'LOR ', 'CGPA',\n",
       "       'Research', 'Chance of Admit '],\n",
       "      dtype='object')"
      ]
     },
     "execution_count": 114,
     "metadata": {},
     "output_type": "execute_result"
    }
   ],
   "source": [
    "df.columns\n",
    "# we can see the white spaces after LOR and chance of Admit"
   ]
  },
  {
   "cell_type": "code",
   "execution_count": 106,
   "metadata": {},
   "outputs": [
    {
     "data": {
      "text/html": [
       "<div>\n",
       "<style scoped>\n",
       "    .dataframe tbody tr th:only-of-type {\n",
       "        vertical-align: middle;\n",
       "    }\n",
       "\n",
       "    .dataframe tbody tr th {\n",
       "        vertical-align: top;\n",
       "    }\n",
       "\n",
       "    .dataframe thead th {\n",
       "        text-align: right;\n",
       "    }\n",
       "</style>\n",
       "<table border=\"1\" class=\"dataframe\">\n",
       "  <thead>\n",
       "    <tr style=\"text-align: right;\">\n",
       "      <th></th>\n",
       "      <th>GRE Score</th>\n",
       "      <th>TOEFL Score</th>\n",
       "      <th>University Rating</th>\n",
       "      <th>SOP</th>\n",
       "      <th>Letter of Recommendation</th>\n",
       "      <th>CGPA</th>\n",
       "      <th>Research</th>\n",
       "      <th>Chance of Admit</th>\n",
       "    </tr>\n",
       "    <tr>\n",
       "      <th>Serial No.</th>\n",
       "      <th></th>\n",
       "      <th></th>\n",
       "      <th></th>\n",
       "      <th></th>\n",
       "      <th></th>\n",
       "      <th></th>\n",
       "      <th></th>\n",
       "      <th></th>\n",
       "    </tr>\n",
       "  </thead>\n",
       "  <tbody>\n",
       "    <tr>\n",
       "      <th>1</th>\n",
       "      <td>337</td>\n",
       "      <td>118</td>\n",
       "      <td>4</td>\n",
       "      <td>4.5</td>\n",
       "      <td>4.5</td>\n",
       "      <td>9.65</td>\n",
       "      <td>1</td>\n",
       "      <td>0.92</td>\n",
       "    </tr>\n",
       "    <tr>\n",
       "      <th>2</th>\n",
       "      <td>324</td>\n",
       "      <td>107</td>\n",
       "      <td>4</td>\n",
       "      <td>4.0</td>\n",
       "      <td>4.5</td>\n",
       "      <td>8.87</td>\n",
       "      <td>1</td>\n",
       "      <td>0.76</td>\n",
       "    </tr>\n",
       "    <tr>\n",
       "      <th>3</th>\n",
       "      <td>316</td>\n",
       "      <td>104</td>\n",
       "      <td>3</td>\n",
       "      <td>3.0</td>\n",
       "      <td>3.5</td>\n",
       "      <td>8.00</td>\n",
       "      <td>1</td>\n",
       "      <td>0.72</td>\n",
       "    </tr>\n",
       "    <tr>\n",
       "      <th>4</th>\n",
       "      <td>322</td>\n",
       "      <td>110</td>\n",
       "      <td>3</td>\n",
       "      <td>3.5</td>\n",
       "      <td>2.5</td>\n",
       "      <td>8.67</td>\n",
       "      <td>1</td>\n",
       "      <td>0.80</td>\n",
       "    </tr>\n",
       "    <tr>\n",
       "      <th>5</th>\n",
       "      <td>314</td>\n",
       "      <td>103</td>\n",
       "      <td>2</td>\n",
       "      <td>2.0</td>\n",
       "      <td>3.0</td>\n",
       "      <td>8.21</td>\n",
       "      <td>0</td>\n",
       "      <td>0.65</td>\n",
       "    </tr>\n",
       "  </tbody>\n",
       "</table>\n",
       "</div>"
      ],
      "text/plain": [
       "            GRE Score  TOEFL Score  University Rating  SOP  \\\n",
       "Serial No.                                                   \n",
       "1                 337          118                  4  4.5   \n",
       "2                 324          107                  4  4.0   \n",
       "3                 316          104                  3  3.0   \n",
       "4                 322          110                  3  3.5   \n",
       "5                 314          103                  2  2.0   \n",
       "\n",
       "            Letter of Recommendation  CGPA  Research  Chance of Admit  \n",
       "Serial No.                                                             \n",
       "1                                4.5  9.65         1             0.92  \n",
       "2                                4.5  8.87         1             0.76  \n",
       "3                                3.5  8.00         1             0.72  \n",
       "4                                2.5  8.67         1             0.80  \n",
       "5                                3.0  8.21         0             0.65  "
      ]
     },
     "execution_count": 106,
     "metadata": {},
     "output_type": "execute_result"
    }
   ],
   "source": [
    "# Renaming columns\n",
    "new_df = df.rename(columns={'LOR ': 'Letter of Recommendation', 'Chance of Admit ': 'Chance of Admit'})\n",
    "# Since they have white spaces, then yo should add them when renaming as well\n",
    "new_df.head()"
   ]
  },
  {
   "cell_type": "code",
   "execution_count": 107,
   "metadata": {},
   "outputs": [
    {
     "data": {
      "text/plain": [
       "Index(['GRE Score', 'TOEFL Score', 'University Rating', 'SOP',\n",
       "       'Letter of Recommendation', 'CGPA', 'Research', 'Chance of Admit'],\n",
       "      dtype='object')"
      ]
     },
     "execution_count": 107,
     "metadata": {},
     "output_type": "execute_result"
    }
   ],
   "source": [
    "# You can use the .columns attribute to view the columns\n",
    "new_df.columns"
   ]
  },
  {
   "cell_type": "code",
   "execution_count": 112,
   "metadata": {},
   "outputs": [
    {
     "data": {
      "text/html": [
       "<div>\n",
       "<style scoped>\n",
       "    .dataframe tbody tr th:only-of-type {\n",
       "        vertical-align: middle;\n",
       "    }\n",
       "\n",
       "    .dataframe tbody tr th {\n",
       "        vertical-align: top;\n",
       "    }\n",
       "\n",
       "    .dataframe thead th {\n",
       "        text-align: right;\n",
       "    }\n",
       "</style>\n",
       "<table border=\"1\" class=\"dataframe\">\n",
       "  <thead>\n",
       "    <tr style=\"text-align: right;\">\n",
       "      <th></th>\n",
       "      <th>GRE Score</th>\n",
       "      <th>TOEFL Score</th>\n",
       "      <th>University Rating</th>\n",
       "      <th>SOP</th>\n",
       "      <th>Letter of Recommendation</th>\n",
       "      <th>CGPA</th>\n",
       "      <th>Research</th>\n",
       "      <th>Chance of Admit</th>\n",
       "    </tr>\n",
       "    <tr>\n",
       "      <th>Serial No.</th>\n",
       "      <th></th>\n",
       "      <th></th>\n",
       "      <th></th>\n",
       "      <th></th>\n",
       "      <th></th>\n",
       "      <th></th>\n",
       "      <th></th>\n",
       "      <th></th>\n",
       "    </tr>\n",
       "  </thead>\n",
       "  <tbody>\n",
       "    <tr>\n",
       "      <th>1</th>\n",
       "      <td>337</td>\n",
       "      <td>118</td>\n",
       "      <td>4</td>\n",
       "      <td>4.5</td>\n",
       "      <td>4.5</td>\n",
       "      <td>9.65</td>\n",
       "      <td>1</td>\n",
       "      <td>0.92</td>\n",
       "    </tr>\n",
       "    <tr>\n",
       "      <th>2</th>\n",
       "      <td>324</td>\n",
       "      <td>107</td>\n",
       "      <td>4</td>\n",
       "      <td>4.0</td>\n",
       "      <td>4.5</td>\n",
       "      <td>8.87</td>\n",
       "      <td>1</td>\n",
       "      <td>0.76</td>\n",
       "    </tr>\n",
       "    <tr>\n",
       "      <th>3</th>\n",
       "      <td>316</td>\n",
       "      <td>104</td>\n",
       "      <td>3</td>\n",
       "      <td>3.0</td>\n",
       "      <td>3.5</td>\n",
       "      <td>8.00</td>\n",
       "      <td>1</td>\n",
       "      <td>0.72</td>\n",
       "    </tr>\n",
       "    <tr>\n",
       "      <th>4</th>\n",
       "      <td>322</td>\n",
       "      <td>110</td>\n",
       "      <td>3</td>\n",
       "      <td>3.5</td>\n",
       "      <td>2.5</td>\n",
       "      <td>8.67</td>\n",
       "      <td>1</td>\n",
       "      <td>0.80</td>\n",
       "    </tr>\n",
       "    <tr>\n",
       "      <th>5</th>\n",
       "      <td>314</td>\n",
       "      <td>103</td>\n",
       "      <td>2</td>\n",
       "      <td>2.0</td>\n",
       "      <td>3.0</td>\n",
       "      <td>8.21</td>\n",
       "      <td>0</td>\n",
       "      <td>0.65</td>\n",
       "    </tr>\n",
       "  </tbody>\n",
       "</table>\n",
       "</div>"
      ],
      "text/plain": [
       "            GRE Score  TOEFL Score  University Rating  SOP  \\\n",
       "Serial No.                                                   \n",
       "1                 337          118                  4  4.5   \n",
       "2                 324          107                  4  4.0   \n",
       "3                 316          104                  3  3.0   \n",
       "4                 322          110                  3  3.5   \n",
       "5                 314          103                  2  2.0   \n",
       "\n",
       "            Letter of Recommendation  CGPA  Research  Chance of Admit  \n",
       "Serial No.                                                             \n",
       "1                                4.5  9.65         1             0.92  \n",
       "2                                4.5  8.87         1             0.76  \n",
       "3                                3.5  8.00         1             0.72  \n",
       "4                                2.5  8.67         1             0.80  \n",
       "5                                3.0  8.21         0             0.65  "
      ]
     },
     "execution_count": 112,
     "metadata": {},
     "output_type": "execute_result"
    }
   ],
   "source": [
    "# To remove white spaces, you can use the .strip() method\n",
    "new_df.columns = new_df.columns.str.strip()\n",
    "new_df.head()"
   ]
  },
  {
   "cell_type": "code",
   "execution_count": 113,
   "metadata": {},
   "outputs": [
    {
     "data": {
      "text/plain": [
       "Index(['GRE Score', 'TOEFL Score', 'University Rating', 'SOP',\n",
       "       'Letter of Recommendation', 'CGPA', 'Research', 'Chance of Admit'],\n",
       "      dtype='object')"
      ]
     },
     "execution_count": 113,
     "metadata": {},
     "output_type": "execute_result"
    }
   ],
   "source": [
    "new_df.columns"
   ]
  }
 ],
 "metadata": {
  "kernelspec": {
   "display_name": "Python 3",
   "language": "python",
   "name": "python3"
  },
  "language_info": {
   "codemirror_mode": {
    "name": "ipython",
    "version": 3
   },
   "file_extension": ".py",
   "mimetype": "text/x-python",
   "name": "python",
   "nbconvert_exporter": "python",
   "pygments_lexer": "ipython3",
   "version": "3.11.4"
  },
  "orig_nbformat": 4
 },
 "nbformat": 4,
 "nbformat_minor": 2
}
